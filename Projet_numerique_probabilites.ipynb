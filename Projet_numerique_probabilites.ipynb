{
 "cells": [
  {
   "cell_type": "markdown",
   "metadata": {},
   "source": [
    "Claire MEUNIER  \n",
    "Morgane PICOT"
   ]
  },
  {
   "cell_type": "markdown",
   "metadata": {},
   "source": [
    "## Instructions {-}\n",
    "Ce sujet est constitué de deux parties : la partie 1 correspond au sujet donné l'an dernier, dont la correction vous est donnée, la partie 2 constitue la partie qui sera évaluée et se place dans la continuité de la partie 1."
   ]
  },
  {
   "cell_type": "markdown",
   "metadata": {},
   "source": [
    "# Enoncé du problème (Partie 1)\n",
    "\n",
    "L'objectif de ce projet est d'estimer la longueur de câble sous-marin nécessaire pour relier deux côtes $A$ et $B$  en utilisant des simulations conditionnelles.\n",
    "\n",
    "\n",
    "Le câble reposera sur le fond marin dont la profondeur est inconnue.\n",
    "Le segment $[AB]$ est discrétisé par une séquence de (N+1) points. On pose $x_0=A$ et pour $i=1,\\dots,N$, $$x_i=x_0+i\\Delta$$ où $$\\Delta = \\frac{AB}{N}$$ de telle sorte que $x_N=B$.\n",
    "On note $z(x)$ la profondeur du fond marin au point $x$ de telle sorte \n",
    "qu'on pourra estimer la longueur totale de câble nécessaire par la somme \n",
    "des longueurs sur les segments de la discrétisation :\n",
    "\n",
    "$$l=\\sum_{i=1}^N\\sqrt{\\Delta^2+(z(x_i)-z(x_{i-1}))^2}.$$\n",
    "\n",
    "Enfin, notons que l'on dispose d'un ensemble de $n$ observations de la \n",
    "profondeur que l'on supposera situées sur des points de discrétisation $z(x_{j_1}),\\dots,z(x_{j_n})$.\n",
    "\n",
    "\n",
    "On adopte un modèle probabiliste pour la profondeur. On suppose que le vecteur des \n",
    "profondeurs sur les points de discrétisation \n",
    "$\\mathbf{z}=(z(x_0),\\dots,z(x_N))$ est la réalisation\n",
    "d'un vecteur aléatoire gaussien $\\mathbf{Z}=(Z(x_0),\\dots,Z(x_N))$ \n",
    "dont le vecteur d'espérance ne contient qu'une seule valeur $\\mu$ \n",
    "répétée $N+1$ fois et dont la matrice de covariance $\\Sigma$ a pour termes $\\sigma_{ij}$\n",
    "définis par $\\sigma_{ij}=C(|x_i-x_j|)$ où $C$ est une\n",
    "fonction décroissante, traduisant le fait que deux points \n",
    "géographiquement proches ont tendance à avoir des profondeurs plus similaires que deux points éloignés.\n",
    "\n",
    "On supposera que la matrice de covariance ainsi \n",
    "générée est définie-positive (en fait, $C$ sera choisie parmi les fonctions qui, \n",
    "appliquées aux termes d'une matrice de distance, produisent des matrices définie-positives). \n",
    "\n",
    "Si on note $L$ la variable aléatoire donnant la longueur de cable nécessaire : \n",
    "$$L=\\sum_{i=1}^N\\sqrt{\\Delta^2+(Z(x_i)-Z(x_{i-1}))^2},$$\n",
    "un bon estimateur de $L$ est fourni par l'espérance conditionnelle \n",
    "\n",
    "$$L^\\star=E[L|Z(x_{j_1})=z(x_{j_1}),\\dots,Z(x_{j_n})=z(x_{j_n})].$$\n",
    "                                                                              \n",
    "Cependant, cette quantité est difficilement accessible par le calcul. \n",
    "On va donc avoir recours à des\n",
    "simulations conditionnelles. C'est-à-dire que l'on va simuler \n",
    "un nombre $K$ de réalités (disons des réalisations du modèle \n",
    "probabiliste choisi), et sur chacune d'entre elle, \n",
    "la quantité de câble nécessaire sera évaluée. \n",
    "On disposera ainsi d'un échantillon $l_{(1)},\\dots,l_{(K)}$ de \n",
    "longueures simulées. Puis on approchera l'espérance conditionnelle  par \n",
    "$$L^\\star=\\frac1{K}\\sum_{k=1}^K l_{(k)}.$$\n",
    "\n",
    "L'objectif de ce projet est donc d'écrire un code permettant \n",
    "d'effectuer cette simulation conditionnelle, puis de l'appliquer \n",
    "au jeu de données fourni et d'en déduire une estimation de la longueur de câble nécessaire."
   ]
  },
  {
   "cell_type": "markdown",
   "metadata": {},
   "source": [
    "## Questions théoriques\n",
    "\n",
    "1. Quel théorème du cours nous autorise-t-il à estimer l'espérance conditionnelle par la moyenne empirique de simulations conditionnelles ?\n",
    "\n",
    "*la loi forte des grands nombres, cf [Proba IV p.16](https://boisgera.github.io/CDIS/output/Probabilit%C3%A9%20IV.pdf), en vérifiant que $L$ est bien intégrable*\n",
    "\n",
    "2. Rappeler la loi conditionnelle du vecteur des composantes de $\\mathbf{Z}$ correspondant aux points de discrétisation\n",
    "sans observation, connaissant les valeurs prises par les composantes aux sites d'observation.\n",
    "\n",
    "*cf. [Proba III p.18](https://boisgera.github.io/CDIS/output/Probabilit%C3%A9%20III.pdf),*\n",
    "\n",
    "3. Si $\\mathbf{Y}=(Y_1,\\dots,Y_p)$ est un vecteur de composantes gaussiennes indépendantes, toutes d'espérance nulle et de variance 1, \n",
    "quelle est la loi du vecteur $\\mathbf{Z}=m+R\\mathbf{Y}$ où $R$ est une matrice $p\\times p$ et $m$ est un vecteur de taille $p$ ?\n",
    "\n",
    "*cf. [Proba V p.12](https://cloud.mines-paristech.fr/index.php/s/GLDwtTAMOJCYk3i/download)*\n",
    "\n",
    "4. En déduire un algorithme de simulation conditionnelle.\n",
    "\n",
    "*Appliquer l'algorithme de la q.3 à la loi conditionnelle (on calculera en particulier l'espérance conditionnelle de $\\mathbf{Z}$ sachant les données et la décomposition de Cholesky de la matrice de covariance conditionnelle sachant les données).*"
   ]
  },
  {
   "cell_type": "markdown",
   "metadata": {},
   "source": [
    "## Données du problème\n",
    "Conventionnellement, $A$ est l'origine, $B=500$, $N=100$.\n",
    "\n",
    "Les données $$\\begin{array}{c|r}i & z(x_i)\\\\\n",
    "\\hline\n",
    "0 & 0\\\\\n",
    "20 & -4\\\\\n",
    "40 & -12.8\\\\\n",
    "60 & -1\\\\\n",
    "80 & -6.5\\\\\n",
    "100 & 0\\end{array}$$\n",
    "\n",
    "L'espérance de chaque composante du vecteur aléatoire $\\mathbf{Z}$ est donnée par $\\mu=-5.$\n",
    "\n",
    "La fonction $C$ est définie par $$C(h)=\\sigma^2 e^{-|h|/a},$$\n",
    "\n",
    "où $|h|$ correspond à la distance entre deux points, $a=50$ et $\\sigma^2=12$.\n"
   ]
  },
  {
   "cell_type": "markdown",
   "metadata": {},
   "source": [
    "## Implémentation"
   ]
  },
  {
   "cell_type": "markdown",
   "metadata": {},
   "source": [
    "### Préambule"
   ]
  },
  {
   "cell_type": "code",
   "execution_count": 111,
   "metadata": {},
   "outputs": [],
   "source": [
    "#Chargement de dépendances\n",
    "\n",
    "import numpy as np\n",
    "import matplotlib.pyplot as plt\n",
    "\n",
    "#Discrétisation\n",
    "A=0\n",
    "B=500\n",
    "N=101 #Nombre de points de discrétisation\n",
    "Delta = (B-A)/(N-1)\n",
    "discretization_indexes = np.arange(N)\n",
    "discretization = discretization_indexes*Delta\n",
    "#Paramètres du modèle\n",
    "\n",
    "mu=-5\n",
    "a = 50\n",
    "sigma2 = 12\n",
    "\n",
    "#Données\n",
    "\n",
    "observation_indexes = [0,20,40,60,80,100]\n",
    "depth = np.array([0,-4,-12.8,-1,-6.5,0])\n",
    "\n",
    "#Indices des composantes correspondant aux observations et aux componsantes non observées\n",
    "\n",
    "unknown_indexes=list(set(discretization_indexes)-set(observation_indexes))\n"
   ]
  },
  {
   "cell_type": "markdown",
   "metadata": {},
   "source": [
    "### Questions\n",
    "\n",
    "1. Ecrire une fonction qui prend en argument la distance entre les points, le paramètre $a$, et le paramètre $\\sigma^2$, et qui retourne la covariance entre deux points.\n",
    "On pourra fournir une matrice de distance à cette fonction. Dans ce cas, la fonction renverra la matrice de covariance."
   ]
  },
  {
   "cell_type": "code",
   "execution_count": 112,
   "metadata": {},
   "outputs": [],
   "source": [
    "#Fonction C\n",
    "\n",
    "def Covexp(dist,rangeval,sigmaval):\n",
    "    return sigmaval * np.exp(-dist/rangeval)\n"
   ]
  },
  {
   "cell_type": "markdown",
   "metadata": {},
   "source": [
    "2. Calculer la matrice de distance."
   ]
  },
  {
   "cell_type": "code",
   "execution_count": 113,
   "metadata": {},
   "outputs": [],
   "source": [
    "distmat=abs(np.subtract.outer(discretization,discretization))"
   ]
  },
  {
   "cell_type": "markdown",
   "metadata": {},
   "source": [
    "3. Calculer la matrice de covariance du vecteur $\\mathbf{Z}=(Z(x_0),\\dots,Z(x_N))$."
   ]
  },
  {
   "cell_type": "code",
   "execution_count": 114,
   "metadata": {},
   "outputs": [],
   "source": [
    "Sigma=Covexp(distmat,a,sigma2)"
   ]
  },
  {
   "cell_type": "markdown",
   "metadata": {},
   "source": [
    "4. Extraire les 3 matrices de covariance suivantes :\n",
    "\n",
    " * entre les observations\n",
    "\n",
    " * entre les observations et les inconnues\n",
    "\n",
    " * entre les inconnues\n"
   ]
  },
  {
   "cell_type": "code",
   "execution_count": 115,
   "metadata": {},
   "outputs": [
    {
     "data": {
      "text/plain": [
       "array([[1.20000000e+01, 1.08580490e+01, 9.82476904e+00, ...,\n",
       "        8.12744838e-04, 7.35401941e-04, 6.65419193e-04],\n",
       "       [1.08580490e+01, 1.20000000e+01, 1.08580490e+01, ...,\n",
       "        8.98221959e-04, 8.12744838e-04, 7.35401941e-04],\n",
       "       [9.82476904e+00, 1.08580490e+01, 1.20000000e+01, ...,\n",
       "        9.92688787e-04, 8.98221959e-04, 8.12744838e-04],\n",
       "       ...,\n",
       "       [8.12744838e-04, 8.98221959e-04, 9.92688787e-04, ...,\n",
       "        1.20000000e+01, 1.08580490e+01, 9.82476904e+00],\n",
       "       [7.35401941e-04, 8.12744838e-04, 8.98221959e-04, ...,\n",
       "        1.08580490e+01, 1.20000000e+01, 1.08580490e+01],\n",
       "       [6.65419193e-04, 7.35401941e-04, 8.12744838e-04, ...,\n",
       "        9.82476904e+00, 1.08580490e+01, 1.20000000e+01]])"
      ]
     },
     "execution_count": 115,
     "metadata": {},
     "output_type": "execute_result"
    }
   ],
   "source": [
    "SigmaObs = Sigma[observation_indexes,:][:,observation_indexes]\n",
    "SigmaObsUnknown = Sigma[observation_indexes,:][:,unknown_indexes]\n",
    "SigmaUnknown = Sigma[unknown_indexes,:][:,unknown_indexes]\n",
    "SigmaUnknown"
   ]
  },
  {
   "cell_type": "markdown",
   "metadata": {},
   "source": [
    "5. Calculer l'espérance conditionnelle des composantes non observées connaissant les observations et la représenter avec les données."
   ]
  },
  {
   "cell_type": "code",
   "execution_count": 116,
   "metadata": {},
   "outputs": [],
   "source": [
    "invSigma = np.linalg.inv(SigmaObs) \n",
    "Ec= mu+np.matmul(np.transpose(SigmaObsUnknown),np.matmul(np.linalg.inv(SigmaObs),depth-mu))"
   ]
  },
  {
   "cell_type": "code",
   "execution_count": 117,
   "metadata": {},
   "outputs": [
    {
     "data": {
      "image/png": "[encoded data removed]",
      "text/plain": [
       "<Figure size 432x288 with 1 Axes>"
      ]
     },
     "metadata": {
      "needs_background": "light"
     },
     "output_type": "display_data"
    }
   ],
   "source": [
    "allval1 = np.zeros(N)\n",
    "allval1[unknown_indexes]=Ec\n",
    "allval1[observation_indexes]=depth\n",
    "plt.plot(discretization,allval1)\n",
    "plt.plot(discretization[observation_indexes], depth, 'ro')\n",
    "plt.show()"
   ]
  },
  {
   "cell_type": "markdown",
   "metadata": {},
   "source": [
    "6. Calculer la matrice de variance conditionnelle et tracer sa diagonale (variance conditionnelle) en fonction de la position. Commenter."
   ]
  },
  {
   "cell_type": "code",
   "execution_count": 118,
   "metadata": {},
   "outputs": [],
   "source": [
    "SigmaCond = SigmaUnknown - np.matmul(np.transpose(SigmaObsUnknown),np.matmul(np.linalg.inv(SigmaObs),SigmaObsUnknown))"
   ]
  },
  {
   "cell_type": "code",
   "execution_count": 119,
   "metadata": {},
   "outputs": [
    {
     "data": {
      "image/png": "[encoded data removed]",
      "text/plain": [
       "<Figure size 432x288 with 1 Axes>"
      ]
     },
     "metadata": {
      "needs_background": "light"
     },
     "output_type": "display_data"
    }
   ],
   "source": [
    "allval2 = np.zeros(N)\n",
    "allval2[unknown_indexes]=np.diag(SigmaCond)\n",
    "plt.plot(discretization,allval2)\n",
    "plt.plot(discretization[observation_indexes], np.zeros(np.shape(observation_indexes)[0]), 'ro')\n",
    "plt.show()"
   ]
  },
  {
   "cell_type": "markdown",
   "metadata": {},
   "source": [
    "*On voit ici que la variance est nulle aux points de données (puisque la valeur est fixée) puis qu'elle augmente lorsqu'on s'éloigne des données*"
   ]
  },
  {
   "cell_type": "markdown",
   "metadata": {},
   "source": [
    "7. Effectuer une simulation conditionnelle. Sur un même graphique, tracer la simulation ainsi que les données et l'espérance conditionnelle. Commenter."
   ]
  },
  {
   "cell_type": "code",
   "execution_count": 120,
   "metadata": {},
   "outputs": [],
   "source": [
    "Cholesky = np.linalg.cholesky(SigmaCond)\n",
    "x = np.random.normal(0,1,np.shape(unknown_indexes)[0])\n",
    "simu = Ec + np.matmul(Cholesky,x)"
   ]
  },
  {
   "cell_type": "code",
   "execution_count": 121,
   "metadata": {
    "scrolled": false
   },
   "outputs": [
    {
     "data": {
      "image/png": "[encoded data removed]",
      "text/plain": [
       "<Figure size 432x288 with 1 Axes>"
      ]
     },
     "metadata": {
      "needs_background": "light"
     },
     "output_type": "display_data"
    }
   ],
   "source": [
    "allval3 = np.zeros(N)\n",
    "allval3[unknown_indexes]=simu\n",
    "allval3[observation_indexes]=depth\n",
    "plt.plot(discretization,allval3)\n",
    "plt.plot(discretization,allval1)\n",
    "plt.plot(discretization[observation_indexes], depth, 'ro')\n",
    "plt.show()"
   ]
  },
  {
   "cell_type": "markdown",
   "metadata": {},
   "source": [
    "*l'espérance conditionnelle est lisse car c'est la fonction des données qui minimise la variance ; la simulation conditionnelle reproduit les fluctuations du modèle et donc l'aspect du fond marin*"
   ]
  },
  {
   "cell_type": "markdown",
   "metadata": {},
   "source": [
    "8. Ecrire une fonction qui calcule la longueur du câble en fonction du vecteur des profondeurs et du pas de discrétisation."
   ]
  },
  {
   "cell_type": "code",
   "execution_count": 122,
   "metadata": {},
   "outputs": [],
   "source": [
    "def length(z,delta):\n",
    "    return sum(np.sqrt(Delta**2+(z[1:N]-z[0:-1])**2))"
   ]
  },
  {
   "cell_type": "markdown",
   "metadata": {},
   "source": [
    "9. Utiliser cette fonction pour calculer la longueur du câble à partir de 100 simulations. Comparer l'espérance conditionnelle (estimée) de la longueur avec la longueur de l'espérance conditionnelle."
   ]
  },
  {
   "cell_type": "code",
   "execution_count": 123,
   "metadata": {},
   "outputs": [],
   "source": [
    "K=10000\n",
    "result = np.zeros(K)\n",
    "for i in range(K):\n",
    "    x=np.random.normal(0,1,np.shape(unknown_indexes)[0])\n",
    "    allval3[unknown_indexes]=Ec + np.matmul(Cholesky,x)\n",
    "    result[i]=length(allval3,Delta)\n"
   ]
  },
  {
   "cell_type": "code",
   "execution_count": 124,
   "metadata": {},
   "outputs": [
    {
     "data": {
      "text/plain": [
       "522.4326155806804"
      ]
     },
     "execution_count": 124,
     "metadata": {},
     "output_type": "execute_result"
    }
   ],
   "source": [
    "sum(result)/K"
   ]
  },
  {
   "cell_type": "code",
   "execution_count": 125,
   "metadata": {},
   "outputs": [
    {
     "data": {
      "text/plain": [
       "501.6468416918411"
      ]
     },
     "execution_count": 125,
     "metadata": {},
     "output_type": "execute_result"
    }
   ],
   "source": [
    "length(allval1,Delta)"
   ]
  },
  {
   "cell_type": "markdown",
   "metadata": {},
   "source": [
    "*On donne ici directement les résultats pour 100000 simulations (comparer la vitesse d'éxécution avec votre code pour voir l'intérêt de la vectorisation).*\n",
    "\n",
    "*On voit ici que la longueur donnée par l'espérance conditionnelle est bien moindre que la longueur d'une simulation conditionnelle. Ceci est dû au fait que la simulation conditionnelle va reproduire les fluctuations attendues, au contraire de l'espérance conditionnelle qui minimise la variance.*\n",
    "\n",
    "*NB : On remarquera que c'est le seul endroit où on a utilisé une boucle dans cette correction. On aurait pu s'en passer en utilisant notamment les outils de la librairie Pandas mais le code est plus lisible ainsi.*"
   ]
  },
  {
   "cell_type": "markdown",
   "metadata": {},
   "source": [
    "10. Représenter la suite $M_n$ des moyennes des longueurs de câbles en fonction du nombre de simulations. Commenter."
   ]
  },
  {
   "cell_type": "code",
   "execution_count": 126,
   "metadata": {},
   "outputs": [
    {
     "data": {
      "image/png": "[encoded data removed]",
      "text/plain": [
       "<Figure size 432x288 with 1 Axes>"
      ]
     },
     "metadata": {
      "needs_background": "light"
     },
     "output_type": "display_data"
    }
   ],
   "source": [
    "indice_simu = 1+np.arange(K)\n",
    "plt.plot(indice_simu,np.cumsum(result)/indice_simu)\n",
    "plt.show()"
   ]
  },
  {
   "cell_type": "markdown",
   "metadata": {},
   "source": [
    "*Comme attendu d'après la LFGN, on observe une stabilisation de la valeur moyenne. Les variations sont imperceptibles après quelques dizaines de milliers de simulations*"
   ]
  },
  {
   "cell_type": "markdown",
   "metadata": {},
   "source": [
    "11. Représenter l'histogramme des longueurs de câbles générées."
   ]
  },
  {
   "cell_type": "code",
   "execution_count": 127,
   "metadata": {},
   "outputs": [
    {
     "data": {
      "image/png": "[encoded data removed]",
      "text/plain": [
       "<Figure size 432x288 with 1 Axes>"
      ]
     },
     "metadata": {
      "needs_background": "light"
     },
     "output_type": "display_data"
    }
   ],
   "source": [
    "plt.hist(result,50,density=True)\n",
    "plt.show()"
   ]
  },
  {
   "cell_type": "markdown",
   "metadata": {},
   "source": [
    "*L'histogramme ressemble à une densité gaussienne, avec néanmoins une légère dissymétrie (plus de valeurs fortes).*"
   ]
  },
  {
   "cell_type": "markdown",
   "metadata": {},
   "source": [
    "12. Donner un intervalle de confiance à 95% de la longueur du câble par 2 méthodes différentes. Commenter."
   ]
  },
  {
   "cell_type": "markdown",
   "metadata": {},
   "source": [
    "*1ère méthode : par approximation gaussienne. L'histogramme précédent suggère qu'une loi gaussienne peut bien représenter la loi conditionnelle de la longueur du cable. On obtient un intervalle de confiance en calculant la moyenne (milieu de l'intervalle) et l'écart type de l'échantillon de longueurs de câble puis en appliquant la formule du cours.*"
   ]
  },
  {
   "cell_type": "code",
   "execution_count": 128,
   "metadata": {},
   "outputs": [
    {
     "data": {
      "text/plain": [
       "[516.7720049252, 528.0932262361607]"
      ]
     },
     "execution_count": 128,
     "metadata": {},
     "output_type": "execute_result"
    }
   ],
   "source": [
    "Ln = sum(result)/K\n",
    "sigman = np.std(result)\n",
    "[Ln - sigman*1.96,Ln + sigman*1.96]"
   ]
  },
  {
   "cell_type": "markdown",
   "metadata": {},
   "source": [
    "*2e méthode : on extrait les quantiles à 2.5% et 97.5% de l'échantillon, c'est-à-dire les valeurs $x_\\alpha$ pour $\\alpha \\in \\{0.025 ; 0.975\\}$telles que* $$\\mathbb{P}(L<x_\\alpha) \\approx \\frac{1}{n}\\sum_{i=1}^N 1_{\\{L_i<x_\\alpha\\}}$$"
   ]
  },
  {
   "cell_type": "code",
   "execution_count": 129,
   "metadata": {},
   "outputs": [
    {
     "data": {
      "text/plain": [
       "array([517.19883921, 528.37326174])"
      ]
     },
     "execution_count": 129,
     "metadata": {},
     "output_type": "execute_result"
    }
   ],
   "source": [
    "np.quantile(result,[0.025,0.975])"
   ]
  },
  {
   "cell_type": "markdown",
   "metadata": {},
   "source": [
    "*ATTENTION : ici l'utilisation du TCL tel qu'exposé au début du chapitre 5 fournissait un intervalle de confiance de l'**espérance de la longueur de câble** et non de la **longueur de câble** (erreur fréquente).*\n",
    "\n",
    "*On voit par ailleurs que la 2e méthode est plus précise car elle est basée directement sur la loi empirique de l'échantillon*"
   ]
  },
  {
   "cell_type": "markdown",
   "metadata": {},
   "source": [
    "13. Donner une estimation de la probabilité que la longueur du câble dépasse 525 m."
   ]
  },
  {
   "cell_type": "code",
   "execution_count": 130,
   "metadata": {},
   "outputs": [
    {
     "data": {
      "text/plain": [
       "0.1847"
      ]
     },
     "execution_count": 130,
     "metadata": {},
     "output_type": "execute_result"
    }
   ],
   "source": [
    "np.mean(result>525)"
   ]
  },
  {
   "cell_type": "markdown",
   "metadata": {},
   "source": [
    "14. Reprendre les questions précédentes avec 1000, 10000 puis 100000 simulations. Commenter"
   ]
  },
  {
   "cell_type": "markdown",
   "metadata": {},
   "source": [
    "*cf. le commentaire de la question 10. On observe une stabilisation progressive des estimateurs des différentes quantités calculées : moyennes, quantiles, probabilité de dépassement de seuil.*"
   ]
  },
  {
   "cell_type": "markdown",
   "metadata": {},
   "source": [
    "# Enoncé 2021 (Partie 2)\n",
    "\n",
    "Nous nous plaçons dans le même cadre que ci-dessus. Nous tenons pour acquis les résultats précédents et allons maintenant approfondir l'analyse."
   ]
  },
  {
   "cell_type": "markdown",
   "metadata": {},
   "source": [
    "## Valeurs positives\n",
    "\n",
    "*1. A la question 7 de la partie 1, on peut s'apercevoir que certains profils de profondeur présentent des valeurs positives, ce qui n'a pas de sens si on considère qu'il n'y a pas de partie émergée entre les deux côtes. Proposer et implémenter un algorithme de type rejet qui ne génèrera que des valeurs négatives. Représenter un profil de profondeur généré.*"
   ]
  },
  {
   "cell_type": "markdown",
   "metadata": {},
   "source": [
    "On implémente un algorithme qui calcule un profil de profondeurs et qui, si une des valeurs est positive, le rejette et ce jusqu'à ce qu'il n'y ait que des valeurs négatives."
   ]
  },
  {
   "cell_type": "code",
   "execution_count": 131,
   "metadata": {},
   "outputs": [],
   "source": [
    "def negative_depths(Ec):\n",
    "    Cholesky = np.linalg.cholesky(SigmaCond)\n",
    "    x = np.random.normal(0,1,np.shape(unknown_indexes)[0])\n",
    "    simu = Ec + np.matmul(Cholesky,x)\n",
    "    \n",
    "    while np.any(simu > 0):\n",
    "        x = np.random.normal(0,1,np.shape(unknown_indexes)[0])\n",
    "        simu = Ec + np.matmul(Cholesky,x)\n",
    "    \n",
    "    return simu"
   ]
  },
  {
   "cell_type": "code",
   "execution_count": 132,
   "metadata": {},
   "outputs": [
    {
     "data": {
      "image/png": "[encoded data removed]",
      "text/plain": [
       "<Figure size 432x288 with 1 Axes>"
      ]
     },
     "metadata": {
      "needs_background": "light"
     },
     "output_type": "display_data"
    }
   ],
   "source": [
    "allval3 = np.zeros(N)\n",
    "allval3[unknown_indexes]=negative_depths(Ec)\n",
    "allval3[observation_indexes]=depth\n",
    "plt.plot(discretization,allval3)\n",
    "plt.plot(discretization,allval1)\n",
    "plt.plot(discretization[observation_indexes], depth, 'ro')\n",
    "\n",
    "plt.plot(discretization, allval5, label=\"Espérance conditionnelle\")\n",
    "plt.plot(discretization, allval6, label=\"Profondeurs\")\n",
    "plt.plot(discretization[observation_indexes], depth, 'ro', label = \"Données\")\n",
    "plt.legend()\n",
    "plt.title(\"Simulation d'un profil de profondeurs avec la méthode du rejet\")\n",
    "\n",
    "plt.show()"
   ]
  },
  {
   "cell_type": "markdown",
   "metadata": {},
   "source": [
    "*2. L'emploi de cet algorithme a-t-il un impact sur la valeur moyenne de la longueur de câble ? Sur l'histogramme des longueurs de câble ? Sur l'intervalle de confiance obtenu par la méthode des quantiles ? Sur la probabilité de dépassement du seuil de 525 m? Donner une estimation du taux de rejet de l'algorithme. Considérer 10000 simulations.*"
   ]
  },
  {
   "cell_type": "code",
   "execution_count": 133,
   "metadata": {},
   "outputs": [],
   "source": [
    "K=10000\n",
    "result_2 = np.zeros(K)\n",
    "for i in range(K):\n",
    "    x=np.random.normal(0,1,np.shape(unknown_indexes)[0])\n",
    "    allval3[unknown_indexes] = negative_depths(Ec)\n",
    "    result_2[i]=length(allval3,Delta)"
   ]
  },
  {
   "cell_type": "code",
   "execution_count": 134,
   "metadata": {},
   "outputs": [
    {
     "data": {
      "text/plain": [
       "521.7655309792203"
      ]
     },
     "execution_count": 134,
     "metadata": {},
     "output_type": "execute_result"
    }
   ],
   "source": [
    "sum(result_2)/K"
   ]
  },
  {
   "cell_type": "markdown",
   "metadata": {},
   "source": [
    "La veleur mpyenne est inférieure à celle trouvée précédemment, ce qui fait sens car on a enlevé les valeurs positives.  \n",
    "On trace l'histogramme des deux méthodes (avant et après l'utilisation de $negative$_$depths$) pour savoir si elle a un impact sur la répartition des valeurs."
   ]
  },
  {
   "cell_type": "code",
   "execution_count": 135,
   "metadata": {
    "scrolled": false
   },
   "outputs": [
    {
     "data": {
      "image/png": "[encoded data removed]",
      "text/plain": [
       "<Figure size 432x288 with 1 Axes>"
      ]
     },
     "metadata": {
      "needs_background": "light"
     },
     "output_type": "display_data"
    }
   ],
   "source": [
    "plt.hist(result, 50, density=True, color='r')\n",
    "plt.hist(result_2, 50, density=True, color='b')\n",
    "plt.legend(['Before', 'After'])\n",
    "plt.show()"
   ]
  },
  {
   "cell_type": "markdown",
   "metadata": {},
   "source": [
    "On constate que l'on a toujours une gaussienne de valeur moyenne légèrement inférieure (comme vu précédemment)."
   ]
  },
  {
   "cell_type": "code",
   "execution_count": 139,
   "metadata": {
    "scrolled": true
   },
   "outputs": [
    {
     "data": {
      "text/plain": [
       "array([516.48501856, 527.60777979])"
      ]
     },
     "execution_count": 139,
     "metadata": {},
     "output_type": "execute_result"
    }
   ],
   "source": [
    "np.quantile(result_2, [0.025, 0.975])"
   ]
  },
  {
   "cell_type": "markdown",
   "metadata": {},
   "source": [
    "De la même manière, les résultats pour le quantile nous donne un ensemble de valeurs légèrement décalé vers la gauche."
   ]
  },
  {
   "cell_type": "code",
   "execution_count": 140,
   "metadata": {},
   "outputs": [
    {
     "data": {
      "text/plain": [
       "(0.1847, 0.1273)"
      ]
     },
     "execution_count": 140,
     "metadata": {},
     "output_type": "execute_result"
    }
   ],
   "source": [
    "np.mean(result > 525), np.mean(result_2 > 525)"
   ]
  },
  {
   "cell_type": "markdown",
   "metadata": {},
   "source": [
    "Concernant le seuil, on constate que la valeur diminue. Cela s'explique par le fait que les valeurs ne sont pas supposées être plus profondes alors qu'on a éliminé celles dépassant la surface de l'eau. "
   ]
  },
  {
   "cell_type": "markdown",
   "metadata": {},
   "source": [
    "Enfin, calculons le taux de rejet."
   ]
  },
  {
   "cell_type": "code",
   "execution_count": 143,
   "metadata": {},
   "outputs": [],
   "source": [
    "def nombre_rejets(Ec):\n",
    "        compteur = 0\n",
    "        \n",
    "        Cholesky = np.linalg.cholesky(SigmaCond)\n",
    "        x = np.random.normal(0,1,np.shape(unknown_indexes)[0])\n",
    "        simu = Ec + np.matmul(Cholesky,x) #Une première valeur de simu\n",
    "\n",
    "        while np.any(simu > 0): #On recalcule simu tant qu'il y a des points au-dessus de la surface\n",
    "            x = np.random.normal(0,1,np.shape(unknown_indexes)[0])\n",
    "            simu = Ec + np.matmul(Cholesky,x)\n",
    "\n",
    "            compteur += 1\n",
    "\n",
    "        return compteur"
   ]
  },
  {
   "cell_type": "code",
   "execution_count": 144,
   "metadata": {},
   "outputs": [],
   "source": [
    "K = 1000\n",
    "estimations = np.zeros(K)\n",
    "for i in range(K):\n",
    "    estimations[i] = nombre_rejets(Ec)"
   ]
  },
  {
   "cell_type": "code",
   "execution_count": 146,
   "metadata": {
    "scrolled": true
   },
   "outputs": [
    {
     "name": "stdout",
     "output_type": "stream",
     "text": [
      "0.9624413145539906\n"
     ]
    }
   ],
   "source": [
    "sum_profils_rejetes = np.sum(estimations)\n",
    "sum_profils = sum_profils_rejetes + K\n",
    "print(sum_profils_rejetes/sum_profils)"
   ]
  },
  {
   "cell_type": "markdown",
   "metadata": {},
   "source": [
    "Le taux de rejet est très élevé. Cela s'explique par le fait que même si la probabilité d'avoir une valeur positive lors du calcul du profil est très faible, il suffit d'une seule valeur pour devior recalculer l'ensemble du profil.  \n",
    "Le taux obtenu semble donc cohérent avec la méthode utilisée."
   ]
  },
  {
   "cell_type": "markdown",
   "metadata": {},
   "source": [
    "## Approche Bayésienne\n",
    "\n",
    "Dans la première partie, on a considéré que l'ensemble des paramètres du modèle était parfaitement connu. Toutes choses égales par ailleurs, on va maintenant considérer que la moyenne $\\mu$ est issue d'une estimation entâchée d'une incertitude. Plus précisément, on va modéliser cette incertitude en considérant que $\\mu \\sim \\mathcal{N}(-5,4)$.\n",
    "\n",
    "On va également décomposer le vecteur $\\mathbf{Z}$ en $\\mathbf{Z} = (\\mathbf{Z}_{\\text{OBS}},\\mathbf{Z}_{\\text{UNK}})$. On notera $C_{\\text{OBS}}$ et $C_{\\text{UNK}}$ les matrices de covariance respectives de $\\mathbf{Z}_{\\text{OBS}}$ et $\\mathbf{Z}_{\\text{UNK}}$ ainsi que $C_{\\text{OBS},\\text{UNK}}$ la matrice des covariances entre ces deux vecteurs.\n",
    "\n",
    "### Questions théoriques\n",
    "\n",
    "*3. Montrer que $\\mu | \\mathbf{Z}_{\\text{OBS}}= \\mathbf{z}_{\\text{OBS}} \\sim \\mathcal{N}(\\widehat{\\mu},\\widehat{\\sigma}^2)$ avec*\n",
    "$$\\widehat{\\sigma}^2 = (\\mathbf{1}^t C_{\\text{OBS}}^{-1} \\mathbf{1} + \\frac1{4})^{-1},$$ \n",
    "*où $\\mathbf{1}$ est un vecteur de longueur 6 (soit la longueur du vecteur $\\mathbf{Z}_{\\text{OBS}}$) ne contenant que des 1 et \n",
    "$$\\widehat{\\mu} = \\widehat{\\sigma}^2 (\\mathbf{1}^t C_{\\text{OBS}}^{-1} \\mathbf{z}_{\\text{OBS}} - \\frac{5}{4} )$$\n",
    "Indication : écrire la densité jointe du vecteur $(\\mathbf{Z}_{\\text{OBS}},\\mu)$, calculer $-2 \\ln$ de cette densité puis identifier la forme quadratique faisant intervenir $\\mu$.*"
   ]
  },
  {
   "cell_type": "markdown",
   "metadata": {},
   "source": [
    "**Réponse**  \n",
    "  \n",
    "On commence par exprimer la densité du couple $(\\mathbf{Z}_{obs}, \\mu)$.  \n",
    "On a :\n",
    "$$\n",
    "f_{(\\mathbf{Z}_{OBS}, \\mu)}(z, m) = f_\\mu(m) \\times f_{\\mathbf{Z}_{OBS} | \\mu = m }(z)\n",
    "= \\frac{1}{2\\sqrt{2\\pi}}exp(-\\frac{(m+5)^2}{8}) \\times \\frac{1}{(\\sqrt{2\\pi})^6}\\frac{1}{\\sqrt{det(C_{OBS})}}exp(-\\frac{1}{2}(z-\\mathbf{1}m)^T{C_{OBS}}^{-1}(z-\\mathbf{1}m))\n",
    "$$\n",
    "On prend $-2ln$ de cette quantité et on note $A$ le résultat.\n",
    "\n",
    "$$\n",
    "A = 7ln(2\\pi) + ln(4det(C_{OBS})) + \\frac{(m + 5)^2}{16} + (z - \\mathbf{1}m)^T{C_{OBS}}^{-1}(z - \\mathbf{1}m)\n",
    "$$\n",
    "$C_{OBS}$ est symétrique donc ${C_{OBS}}^{-1}$ aussi et $({C_{OBS}}^{-1})^T = ({C_{OBS}}^T)^{-1}$.  \n",
    "On peut écrire \n",
    "$$\n",
    "(z - \\mathbf{1}m)^T{C_{OBS}}^{-1}(z - \\mathbf{1}m) = z^T{C_{OBS}}^{-1}z - m\\mathbf{1}^T{C_{OBS}}^{-1}z -mz^T{C_{OBS}}^{-1}\\mathbf{1} + m^2\\mathbf{1}^T{C_{OBS}}^{-1}\\mathbf{}1 \\\\ \n",
    "= m^2\\mathbf{1}^T{C_{OBS}}^{-1}\\mathbf{1} + z^T\n",
    "(z - \\mathbf{1}m)^T{C_{OBS}}^{-1}(z - \\mathbf{1}m)  \\\\\n",
    "= z^T{C_{OBS}}^{-1}z - m\\mathbf{1}^T{C_{OBS}}^{-1}z -mz^T{C_{OBS}}^{-1}\\mathbf{1} + m^2\\mathbf{1}^T{C_{OBS}}^{-1}\\mathbf{1} \\\\\n",
    "= m^2 \\mathbf{1}^T{C_{OBS}}^{-1}\\mathbf{1} + z^T{C_{OBS}}^{-1}z -2m\\langle \\mathbf{1}, {C_{OBS}}^{-1}z \\rangle\n",
    "$$\n",
    "D'où :\n",
    "$$\n",
    "A = 7ln(2\\pi) + ln(4det(C_{OBS})) + z^T{C_{OBS}}^{-1}z + 25/4 + m^2(\\frac{1}{4} + 1^T{C_{OBS}}^{-1}1) - 2m(\\langle 1, {C_{OBS}}^{-1}z \\rangle - \\frac{5}{4})\n",
    "$$\n",
    "\n",
    "Mais on peut aussi écrire $f_{(\\mathbf{Z}_{OBS}, \\mu)}(z, m) = f_\\mathbf{{Z}_{OBS}}(z) \\times f_{\\mu | \\mathbf{Z}_{OBS} = z}(m)$.\n",
    "\n",
    "On raisonne par analyse synthèse pour retrouver la loi $f_{\\mu | Z_{OBS} = z}$.    \n",
    "  \n",
    "    \n",
    "**Analyse**  \n",
    "Supposons tout d'abord que $\\mu | {Z}_{OBS}= z \\sim \\mathcal{N}(\\widehat{\\mu},\\widehat{\\sigma}^2)$.\n",
    "\n",
    "On a \n",
    "$$\n",
    "-2ln(f_{\\mu | Z_{OBS} = z}(m)) = 2ln(\\sqrt{2\\pi}\\widehat{\\sigma})+\\frac{(m-\\widehat{\\mu})^2}{\\widehat{\\sigma}^2} = m^2\\frac{1}{\\widehat{\\sigma}^2} - m\\frac{2\\widehat{\\mu}}{\\widehat{\\sigma}^2} + (2ln(\\sqrt{2\\pi}\\widehat{\\sigma})+ \\frac{\\widehat{\\mu}^2}{\\widehat{\\sigma}^2})\n",
    "$$\n",
    "Cela nous donne par unicité de la décomposition avec la formule $A$ trouvée précédemment :\n",
    "$$\n",
    "{\\widehat{\\sigma}^2}=({\\mathbf{1}^TC_{OBS}^{-1}\\mathbf{1} + \\frac{1}{4}})^{-1}\n",
    "$$\n",
    "et\n",
    "$$\n",
    "\\widehat{\\mu}=\\widehat{\\sigma}^2(\\mathbf{1}^T C_{OBS}^{-1}z_{OBS} - \\frac{5}{4})\n",
    "$$\n",
    "**Synthèse**  \n",
    "Si on a $\\widehat{\\sigma}^2$ et $\\widehat{\\mu}$ avec ces valeurs, on trouve\n",
    "$$\n",
    "A = 2ln(\\sqrt{2\\pi}\\widehat{\\sigma}) + \\frac{1}{\\widehat{\\sigma^2}}(m^2 -2m\\widehat{\\mu} + \\widehat{\\mu}^2) + g(z_{OBS})\n",
    "$$\n",
    "où $g(z_{OBS})$ comprend tous les termes ne dépendant que de cette variable.  \n",
    "On a $exp(-\\frac{A}{2}) = f_{\\mu | \\mathbf{Z}_{OBS} = z}(m) \\times f_{Z_{OBS}}(z)$.  \n",
    "  \n",
    "$f_{\\mu | \\mathbf{Z}_{OBS} = z}(m) \\times f_{Z_{OBS}}(z) = \\frac{1}{\\sqrt{2\\pi}\\widehat{\\sigma}}exp(-\\frac{(m - \\widehat{\\mu})^2}{2\\widehat{\\sigma}^2})exp(-\\frac{g(z_{OBS})}{2})$. On reconnait le produit d'une loi normale et d'une fonction ne dépendant que de $z_{OBS}$. On a bien le résultat escompté, $\\mu$ suit une loi normale de paramètres $(\\widehat{\\mu}, \\widehat{\\sigma}^2)$."
   ]
  },
  {
   "cell_type": "markdown",
   "metadata": {},
   "source": [
    "*4. Montrer que si $X$, $Y$ et $Z$ sont trois vecteurs aléatoires à densité, alors $f_{X,Y|Z = z}(x,y) = f_{X|Y=y,Z=z}(x)f_{Y|Z=Z}(y)$*"
   ]
  },
  {
   "cell_type": "markdown",
   "metadata": {},
   "source": [
    "On considère $X, Y, Z$ des variables aléatoires admettant toutes 3 des densités.\n",
    "Posons $A = (X, Y)$.$A, Z$ admet une densité telle que :    \n",
    "$$\n",
    "f_{A, Z}(x, y, z) = f_Z(z) \\times f_{A | Z = z}(x, y) $$\n",
    "Posons maintenant $B = (Y, Z)$.   \n",
    "  \n",
    "$X, B$ admet aussi une densité et :  \n",
    "$$\n",
    "f_{X, B}(x, y, z) = f_{X | B = y, z}(x) \\times f_B(y, z) = f_{X | B = (y, z)}(x) \\times f_{Y | Z = z}(y) \\times f_Z(z)\n",
    "$$  \n",
    "  \n",
    "Comme on a $f_{X, Y, Z}(x, y, z) = f_{A, Z}(x, y, z) = f_{X, B}(x, y, z)$, on trouve bien :\n",
    "  \n",
    "    \n",
    "$$\n",
    "f_{(X, Y) | Z = z}(x, y) = f_{X | (Y, Z) = (y, z)}(x) \\times f_{Y | Z = z}(y)\n",
    "$$"
   ]
  },
  {
   "cell_type": "markdown",
   "metadata": {},
   "source": [
    "*5. En déduire que la densité de $(\\mathbf{Z}_{\\text{UNK}},\\mu) | \\mathbf{Z}_{\\text{OBS}} = \\mathbf{z}_{\\text{OBS}}$ s'écrit comme le produit de $f_{\\mu | \\mathbf{Z}_{\\text{OBS}} = \\mathbf{z}_{\\text{OBS}}}$ et de $f_{\\mathbf{Z}_{\\text{UNK}}| \\mu = \\mu^\\star, \\mathbf{Z}_{\\text{OBS}} = \\mathbf{z}_{\\text{OBS}}}$ que l'on exprimera.*"
   ]
  },
  {
   "cell_type": "markdown",
   "metadata": {},
   "source": [
    "Indication : $f_{\\mathbf{Z}_{\\text{UNK}}| \\mu = \\mu^\\star, \\mathbf{Z}_{\\text{OBS}} = \\mathbf{z}_{\\text{OBS}}}$ est identique à la densité $f_{\\mathbf{Z}_{\\text{UNK}}| \\mathbf{Z}_{\\text{OBS}} = \\mathbf{z}_{\\text{OBS}}}$ utilisée dans la partie 1 avec $\\mu = \\mu^\\star$"
   ]
  },
  {
   "cell_type": "markdown",
   "metadata": {},
   "source": [
    "$\\mu, Z_{OBS}$ et $Z_{UNK}$ admettent toutes 3 des densités. D'après la question précédente, on peut écrire :  \n",
    "  \n",
    "  \n",
    "$$\n",
    "f_{(Z_{UNK}, \\mu) | Z_{OBS} = z_{OBS}}(z_u, \\mu^\\star) = f_{Z_{UNK} |\\mu = \\mu^\\star, Z_{OBS} = z_{OBS}}(z_u) \\times f_{\\mu | Z_{OBS} = z_{OBS}}(\\mu^\\star)\n",
    "$$  \n",
    "  \n",
    "  \n",
    "En se servant de l'indication, on connait l'expression de $f_{Z_{UNK} |\\mu = \\mu^\\star, Z_{OBS} = z_{OBS}}$ :  \n",
    "  \n",
    "  \n",
    "$$\n",
    "f_{Z_{UNK}|\\mu=\\mu^\\star,Z_{OBS}=z_{OBS}}(z_u)= \\frac{1}{(2\\pi)^{(N-6)/2}\\sqrt{det(CS_{UNK})}}exp(-\\frac{1}{2}(z_u-\\psi(z))^TCS_{UNK}^{-1}(z_u-\\psi(z))))\n",
    "$$\n",
    "Avec :  \n",
    "$\\psi(z)=(\\mu^\\star+CC_{OBS}^{-1}(z-\\mu^\\star))$  \n",
    "  \n",
    "$CS_{UNK}=C_{UNK}-C_{UNK,Z}C_Z^{-1}C_{Z,UNK}$\n",
    "\n",
    "Et $f_{\\mu|Z_{OBS}=z_{OBS}}(\\mu^\\star) = \\frac{1}{\\sqrt{2\\pi}\\widehat{\\sigma}}exp(-\\frac{(\\mu^\\star-\\widehat{\\mu})^2}{2\\widehat{\\sigma}^2})$ d'après la question $3$."
   ]
  },
  {
   "cell_type": "markdown",
   "metadata": {},
   "source": [
    "### Simulation\n",
    "\n",
    "On va maintenant chercher à simuler les valeurs de $\\mathbf{Z}_{\\text{UNK}}$ en tenant compte de l'incertitude sur $\\mu$.\n",
    "\n",
    "En première approche, on pourrait chercher à obtenir la densité de $\\mathbf{Z}_{\\text{UNK}} | \\mathbf{Z}_{\\text{OBS}} = \\mathbf{z}_{\\text{OBS}}$ en calculant \n",
    "$$\\int_\\mathbb{R} f_{(\\mathbf{Z}_{\\text{UNK}},\\mu) | \\mathbf{Z}_{\\text{OBS}} = \\mathbf{z}_{\\text{OBS}}}(\\mathbf{z}_{\\text{UNK}},\\mu^\\star) d\\mu^\\star$$\n",
    "mais ce calcul a peu de chances d'aboutir.\n",
    "\n",
    "On va plutôt procéder par simulations en cascade, c'est-à-dire que pour chaque simulation de $\\mathbf{Z}_{\\text{UNK}}$, on va d'abord générer une valeur $\\mu^\\star$ de $\\mu$ selon $f_{\\mu | \\mathbf{Z}_{\\text{OBS}}= \\mathbf{z}_{\\text{OBS}}}$ puis on simulera $\\mathbf{Z}_{\\text{UNK}}$ selon $f_{\\mathbf{Z}_{\\text{UNK}}| \\mathbf{Z}_{\\text{OBS}} = \\mathbf{z}_{\\text{OBS}},\\mu = \\mu^\\star}$.\n"
   ]
  },
  {
   "cell_type": "markdown",
   "metadata": {},
   "source": [
    "*6. Calculer $\\widehat{\\mu}$ et $\\widehat{\\sigma}^2$.*"
   ]
  },
  {
   "cell_type": "code",
   "execution_count": 147,
   "metadata": {},
   "outputs": [
    {
     "data": {
      "text/plain": [
       "(1.5368909974762894, -3.6202365840884103)"
      ]
     },
     "execution_count": 147,
     "metadata": {},
     "output_type": "execute_result"
    }
   ],
   "source": [
    "var_circ = np.linalg.inv(np.matmul(np.ones((1, 6)), np.matmul(np.linalg.inv(SigmaObs), np.ones((6, 1)))) + 1/4)\n",
    "mu_circ = np.matmul(var_circ, np.matmul(np.ones((1, 6)), np.matmul(np.linalg.inv(SigmaObs), depth))) - 5/4\n",
    "\n",
    "float(var_circ), float(mu_circ)"
   ]
  },
  {
   "cell_type": "markdown",
   "metadata": {},
   "source": [
    "*7. Calculer la probabilité de $\\{\\mu| \\mathbf{Z}_{\\text{OBS}} = \\mathbf{z}_{\\text{OBS}} > 0\\}$. Proposer et implémenter un algorithme de simulation de $\\mu| \\mathbf{Z}_{\\text{OBS}} = \\mathbf{z}_{\\text{OBS}}, \\mu <0$.*"
   ]
  },
  {
   "cell_type": "markdown",
   "metadata": {},
   "source": [
    "On a $\\mu | {Z}_{OBS}= z \\sim \\mathcal{N}(\\widehat{\\mu},\\widehat{\\sigma}^2)$. Ainsi,\n",
    "$$\n",
    "\\mathbb{P}(\\mu | {Z}_{OBS}= z > 0) = 1 - \\mathbb{P}(\\mu | {Z}_{OBS}= z_{OBS} \\leq 0) = 1 - \\int_{-\\infty}^0f_{\\mu | Z_{OBS} = z_{OBS}}(m) \\mathrm{d}m = 1 - \\int_{-\\infty}^0 \\frac{1}{\\sqrt{2\\pi}\\widehat{\\sigma}}exp(-\\frac{(m-\\widehat{\\mu})^2}{2\\widehat{\\sigma}^2}) \\mathrm{d}m\n",
    "$$\n",
    "On effectue alors le changement de variable :  $u = \\frac{m-\\widehat{\\mu}}{\\sqrt{2}\\widehat{\\sigma}}$. En différentiant l'égalité, on obtient : $\\mathrm{d}u = \\frac{\\mathrm{d}m}{\\sqrt{2}\\widehat{\\sigma}}$.\n",
    "Ainsi, le calcul de la probabilité devient :  \n",
    "$$\n",
    "\\mathbb{P}(\\mu | {Z}_{OBS}= z > 0) = 1 - \\int^{-\\frac{\\widehat{\\mu}}{\\sqrt{2}\\widehat{\\sigma}}}_{-\\infty} \\frac{1}{\\sqrt{\\pi}}exp(-u^2) \\, \\mathrm{d}u = \\int_{-\\frac{\\widehat{\\mu}}{\\sqrt{2}\\widehat{\\sigma}}}^{+\\infty} \\frac{1}{\\sqrt{\\pi}}exp(-u^2) \\, \\mathrm{d}u\n",
    "$$\n",
    "On utilise la fonction $quad$ de la librairie $scipy.integrate$ pour trouver le résultat de cette intégrale."
   ]
  },
  {
   "cell_type": "code",
   "execution_count": 165,
   "metadata": {},
   "outputs": [
    {
     "name": "stdout",
     "output_type": "stream",
     "text": [
      "P(mu|Zobs=zobs>0) = 0.0004322648489260951\n"
     ]
    }
   ],
   "source": [
    "from scipy.integrate import quad\n",
    "\n",
    "def f(u):\n",
    "    return np.exp(-u**2)/(np.pi)**0.5\n",
    "\n",
    "valeur_inf = -float(mu_circ)/((2*float(var_circ))**1/2)\n",
    "\n",
    "print(f\"P(mu|Zobs=zobs>0) = {quad(f, valeur_inf, np.inf)[0]}\")"
   ]
  },
  {
   "cell_type": "markdown",
   "metadata": {},
   "source": [
    "On utilise maintenant $np.random.normal (\\mu, \\sigma^2)$ qui simule des valeurs pour une loi normale de distribution $(\\mu, \\sigma^2)$ pour implémenter la fonction demandée."
   ]
  },
  {
   "cell_type": "code",
   "execution_count": 149,
   "metadata": {},
   "outputs": [],
   "source": [
    "def simu_mu_sachant_Z_obs():\n",
    "    mu = np.random.normal(float(mu_circ), np.sqrt(var_circ))\n",
    "    \n",
    "    while mu >= 0:\n",
    "        mu = np.random.normal(mu_circ, np.sqrt(var_circ))\n",
    "        \n",
    "    return float(mu)\n"
   ]
  },
  {
   "cell_type": "markdown",
   "metadata": {},
   "source": [
    "*8. Générer un couple $\\mathbf{Z}_{\\text{UNK}}, \\mu| \\mathbf{Z}_{\\text{OBS}}, \\mu <0$ et représenter le profil de profondeur obtenu. On prendra soin de ne générer que des valeurs négatives de $\\mathbf{Z}_{\\text{UNK}}$ en utilisant l'algorithme de la section précédente.*"
   ]
  },
  {
   "cell_type": "code",
   "execution_count": 150,
   "metadata": {},
   "outputs": [],
   "source": [
    "def esp_cond(mu):\n",
    "    return mu + np.matmul(np.transpose(SigmaObsUnknown), np.matmul(np.linalg.inv(SigmaObs), depth - mu))"
   ]
  },
  {
   "cell_type": "code",
   "execution_count": 151,
   "metadata": {},
   "outputs": [
    {
     "data": {
      "image/png": "[encoded data removed]",
      "text/plain": [
       "<Figure size 432x288 with 1 Axes>"
      ]
     },
     "metadata": {
      "needs_background": "light"
     },
     "output_type": "display_data"
    }
   ],
   "source": [
    "mu_star = simu_mu_sachant_Z_obs()\n",
    "\n",
    "Ec = esp_cond(mu_star)\n",
    "\n",
    "allval5 = np.zeros(N)\n",
    "allval5[unknown_indexes] = Ec\n",
    "allval5[observation_indexes] = depth\n",
    "\n",
    "allval6 = np.zeros(N)\n",
    "allval6[unknown_indexes] = negative_depths(Ec)\n",
    "allval6[observation_indexes] = depth\n",
    "\n",
    "plt.plot(discretization, allval5, label=\"Espérance conditionnelle\")\n",
    "plt.plot(discretization, allval6, label=\"Profondeurs\")\n",
    "plt.plot(discretization[observation_indexes], depth, 'ro', label = \"Données\")\n",
    "plt.legend()\n",
    "plt.title(\"Simulation d'un profil de profondeur où µ suit une loi normale\")\n",
    "plt.show()"
   ]
  },
  {
   "cell_type": "markdown",
   "metadata": {},
   "source": [
    "*9. Générer 10000 profils de profondeur et calculer les longueurs de câble associées. Comparer la valeur moyenne de la longueur de câble, dont on visualisera la convergence, l'histogramme des longueurs de câble, l'intervalle de confiance obtenu par la méthode des quantiles, la probabilité de dépassement du seuil de 525 m avec les résultats obtenus précédemment. Commenter.*"
   ]
  },
  {
   "cell_type": "markdown",
   "metadata": {},
   "source": [
    "On reprend la trame présentée dans la correction de la partie 1."
   ]
  },
  {
   "cell_type": "code",
   "execution_count": 152,
   "metadata": {},
   "outputs": [],
   "source": [
    "K = 10000\n",
    "cable_lengths = np.zeros(K)\n",
    "\n",
    "for i in range(K):\n",
    "    \n",
    "    mu_star = simu_mu_sachant_Z_obs()\n",
    "    Ec = esp_cond(mu_star)\n",
    "\n",
    "    allval = np.zeros(N)\n",
    "    allval[unknown_indexes] = negative_depths(Ec)\n",
    "    allval[observation_indexes] = depth\n",
    "    \n",
    "    cable_lengths[i] = length(allval, Delta)\n"
   ]
  },
  {
   "cell_type": "markdown",
   "metadata": {},
   "source": [
    "On peut déduire des données obtenues la valeur moyenne des longueurs de câble."
   ]
  },
  {
   "cell_type": "code",
   "execution_count": 153,
   "metadata": {
    "scrolled": true
   },
   "outputs": [
    {
     "name": "stdout",
     "output_type": "stream",
     "text": [
      "521.6539729495121\n"
     ]
    }
   ],
   "source": [
    "print(sum(cable_lengths)/K)"
   ]
  },
  {
   "cell_type": "markdown",
   "metadata": {},
   "source": [
    "On retrouve quasiement la même moyenne qu'au début de l'énonce (521.7)."
   ]
  },
  {
   "cell_type": "markdown",
   "metadata": {},
   "source": [
    "Pour calculer la vitesse de convergence, on trace les  moyennes cumulées."
   ]
  },
  {
   "cell_type": "code",
   "execution_count": 154,
   "metadata": {
    "scrolled": true
   },
   "outputs": [
    {
     "data": {
      "image/png": "[encoded data removed]",
      "text/plain": [
       "<Figure size 432x288 with 1 Axes>"
      ]
     },
     "metadata": {
      "needs_background": "light"
     },
     "output_type": "display_data"
    }
   ],
   "source": [
    "indice_simul = 1 + np.arange(K)\n",
    "plt.plot(indice_simul, np.cumsum(result)/indice_simu)\n",
    "plt.show()"
   ]
  },
  {
   "cell_type": "markdown",
   "metadata": {},
   "source": [
    "Le schéma se comporte sensiblement comme le précédent, avec une convergence rapide vers la moyenne."
   ]
  },
  {
   "cell_type": "markdown",
   "metadata": {},
   "source": [
    "On a ici l'histogramme des résultats."
   ]
  },
  {
   "cell_type": "code",
   "execution_count": 161,
   "metadata": {
    "scrolled": true
   },
   "outputs": [
    {
     "data": {
      "text/plain": [
       "<function matplotlib.pyplot.show(close=None, block=None)>"
      ]
     },
     "execution_count": 161,
     "metadata": {},
     "output_type": "execute_result"
    },
    {
     "data": {
      "image/png": "[encoded data removed]",
      "text/plain": [
       "<Figure size 432x288 with 1 Axes>"
      ]
     },
     "metadata": {
      "needs_background": "light"
     },
     "output_type": "display_data"
    }
   ],
   "source": [
    "plt.hist(cable_lengths, 50, density=True, color='r')\n",
    "plt.show"
   ]
  },
  {
   "cell_type": "markdown",
   "metadata": {},
   "source": [
    "Pour comparer les 2 schémas, on superpose les histogrammes :"
   ]
  },
  {
   "cell_type": "code",
   "execution_count": 160,
   "metadata": {
    "scrolled": true
   },
   "outputs": [
    {
     "data": {
      "image/png": "[encoded data removed]",
      "text/plain": [
       "<Figure size 432x288 with 1 Axes>"
      ]
     },
     "metadata": {
      "needs_background": "light"
     },
     "output_type": "display_data"
    }
   ],
   "source": [
    "plt.hist(result_2, 50, density=True, color='b')\n",
    "plt.hist(cable_lengths, 50, density=True, color='r')\n",
    "plt.hist(result_2, 50, density=True, color='b')\n",
    "plt.legend(['Before', 'After'])\n",
    "plt.show()"
   ]
  },
  {
   "cell_type": "markdown",
   "metadata": {},
   "source": [
    "On constate ainsi que les 2 sont presque identiques et mais que les valeurs avec le nouveau schéma sont plus resserrées autour de la moyenne."
   ]
  },
  {
   "cell_type": "code",
   "execution_count": 157,
   "metadata": {
    "scrolled": true
   },
   "outputs": [
    {
     "data": {
      "text/plain": [
       "array([516.41588746, 527.55133652])"
      ]
     },
     "execution_count": 157,
     "metadata": {},
     "output_type": "execute_result"
    }
   ],
   "source": [
    "np.quantile(cable_lengths, [0.025, 0.975])"
   ]
  },
  {
   "cell_type": "code",
   "execution_count": 163,
   "metadata": {
    "scrolled": true
   },
   "outputs": [
    {
     "data": {
      "text/plain": [
       "0.1227"
      ]
     },
     "execution_count": 163,
     "metadata": {},
     "output_type": "execute_result"
    }
   ],
   "source": [
    "np.mean(cable_lengths > 525)"
   ]
  },
  {
   "cell_type": "markdown",
   "metadata": {},
   "source": [
    "Le quantile garde les mêmes valeurs qu'en partie 1 ([516.485, 527.607]), tout comme la moyenne de dépassement de seuil (0.1273) au moins au $100^e$ près."
   ]
  },
  {
   "cell_type": "markdown",
   "metadata": {},
   "source": [
    "*10. Qu'adviendrait-il selon vous si on rendait également aléatoires les autres paramètres du modèle $\\sigma^2$ et $a$ ?*"
   ]
  },
  {
   "cell_type": "markdown",
   "metadata": {},
   "source": [
    "L'étude réalisée dans la deuxième partie qui permet a $\\mu$ de fluctuer selon une loi normale nous a montré que les résultats ne variaient pas significativement lorsque qu'on rend aléatoire un paramètre de la loi de distribution. On peut donc supposer que faire varier $\\sigma^2$ aura la même influence que vu précédemment.  \n",
    "  \n",
    "$a$ se situe dans le terme en exponentielle de la fonction $C$. Le faire varier va donc modifier la fonction $C$ qui traduit la différence de profondeur entre 2 points successifs de la distribution. Faire varier $a$ modifiera probablement de manière plus importante les profils."
   ]
  }
 ],
 "metadata": {
  "@webio": {
   "lastCommId": "5ceb69a5bbd14071b254c2439a58ac4b",
   "lastKernelId": "0e923419-c540-42c1-ab5f-d0e05ff4521c"
  },
  "kernelspec": {
   "display_name": "Python 3",
   "language": "python",
   "name": "python3"
  },
  "language_info": {
   "codemirror_mode": {
    "name": "ipython",
    "version": 3
   },
   "file_extension": ".py",
   "mimetype": "text/x-python",
   "name": "python",
   "nbconvert_exporter": "python",
   "pygments_lexer": "ipython3",
   "version": "3.8.3"
  },
  "toc": {
   "base_numbering": 1,
   "nav_menu": {},
   "number_sections": true,
   "sideBar": true,
   "skip_h1_title": false,
   "title_cell": "Table of Contents",
   "title_sidebar": "Contents",
   "toc_cell": false,
   "toc_position": {},
   "toc_section_display": true,
   "toc_window_display": false
  }
 },
 "nbformat": 4,
 "nbformat_minor": 2
}
